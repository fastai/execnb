{
 "cells": [
  {
   "cell_type": "code",
   "execution_count": null,
   "metadata": {},
   "outputs": [],
   "source": [
    "#|hide\n",
    "#|default_exp nbio"
   ]
  },
  {
   "cell_type": "markdown",
   "metadata": {},
   "source": [
    "# nbio\n",
    "\n",
    "> Reading and writing Jupyter notebooks"
   ]
  },
  {
   "cell_type": "code",
   "execution_count": null,
   "metadata": {},
   "outputs": [],
   "source": [
    "#|export\n",
    "from fastcore.basics import *\n",
    "from fastcore.imports import *\n",
    "\n",
    "import ast,functools\n",
    "from pprint import pformat,pprint\n",
    "from json import loads,dumps"
   ]
  },
  {
   "cell_type": "code",
   "execution_count": null,
   "metadata": {},
   "outputs": [],
   "source": [
    "#|hide\n",
    "import tempfile"
   ]
  },
  {
   "cell_type": "markdown",
   "metadata": {},
   "source": [
    "## Reading a notebook"
   ]
  },
  {
   "cell_type": "markdown",
   "metadata": {},
   "source": [
    "A notebook is just a json file."
   ]
  },
  {
   "cell_type": "code",
   "execution_count": null,
   "metadata": {},
   "outputs": [],
   "source": [
    "#|exports\n",
    "def _read_json(self, encoding=None, errors=None):\n",
    "    return loads(Path(self).read_text(encoding=encoding, errors=errors))"
   ]
  },
  {
   "cell_type": "code",
   "execution_count": null,
   "metadata": {},
   "outputs": [],
   "source": [
    "minimal_fn = Path('../tests/minimal.ipynb')\n",
    "minimal_txt = AttrDict(_read_json(minimal_fn))"
   ]
  },
  {
   "cell_type": "markdown",
   "metadata": {},
   "source": [
    "It contains two sections, the `metadata`...:"
   ]
  },
  {
   "cell_type": "code",
   "execution_count": null,
   "metadata": {},
   "outputs": [
    {
     "data": {
      "text/plain": [
       "{'kernelspec': {'display_name': 'Python 3 (ipykernel)',\n",
       "  'language': 'python',\n",
       "  'name': 'python3'}}"
      ]
     },
     "execution_count": null,
     "metadata": {},
     "output_type": "execute_result"
    }
   ],
   "source": [
    "minimal_txt.metadata"
   ]
  },
  {
   "cell_type": "markdown",
   "metadata": {},
   "source": [
    "...and, more importantly, the `cells`:"
   ]
  },
  {
   "cell_type": "code",
   "execution_count": null,
   "metadata": {},
   "outputs": [
    {
     "data": {
      "text/plain": [
       "[{'cell_type': 'markdown',\n",
       "  'metadata': {},\n",
       "  'source': ['## A minimal notebook']},\n",
       " {'cell_type': 'code',\n",
       "  'execution_count': None,\n",
       "  'metadata': {},\n",
       "  'outputs': [{'data': {'text/plain': ['2']},\n",
       "    'execution_count': None,\n",
       "    'metadata': {},\n",
       "    'output_type': 'execute_result'}],\n",
       "  'source': ['# Do some arithmetic\\n', '1+1']}]"
      ]
     },
     "execution_count": null,
     "metadata": {},
     "output_type": "execute_result"
    }
   ],
   "source": [
    "minimal_txt.cells"
   ]
  },
  {
   "cell_type": "markdown",
   "metadata": {},
   "source": [
    "The second cell here is a `code` cell, however it contains no outputs, because it hasn't been executed yet. To execute a notebook, we first need to convert it into a format suitable for `nbclient` (which expects some `dict` keys to be available as attrs, and some available as regular `dict` keys). Normally, `nbformat` is used for this step, but it's rather slow and inflexible, so we'll write our own function based on `fastcore`'s handy `dict2obj`, which makes all keys available as both attrs *and* keys."
   ]
  },
  {
   "cell_type": "code",
   "execution_count": null,
   "metadata": {},
   "outputs": [],
   "source": [
    "#|export\n",
    "class NbCell(AttrDict):\n",
    "    def __init__(self, idx, cell):\n",
    "        super().__init__(cell)\n",
    "        self.idx_ = idx\n",
    "        if 'source' in self: self.set_source(self.source)\n",
    "\n",
    "    def set_source(self, source):\n",
    "        self.source = ''.join(source)\n",
    "        if '_parsed_' in self: del(self['_parsed_'])\n",
    "\n",
    "    def parsed_(self):\n",
    "        if self.cell_type!='code' or self.source.strip()[:1] in ['%', '!']: return\n",
    "        if '_parsed_' not in self:\n",
    "            try: self._parsed_ = ast.parse(self.source).body\n",
    "            # you can assign the result of ! to a variable in a notebook cell\n",
    "            # which will result in a syntax error if parsed with the ast module.\n",
    "            except SyntaxError: return\n",
    "        return self._parsed_\n",
    "\n",
    "    def __hash__(self): return hash(self.source) + hash(self.cell_type)\n",
    "    def __eq__(self,o): return self.source==o.source and self.cell_type==o.cell_type"
   ]
  },
  {
   "cell_type": "markdown",
   "metadata": {},
   "source": [
    "We use an `AttrDict` subclass which has some basic functionality for accessing notebook cells."
   ]
  },
  {
   "cell_type": "code",
   "execution_count": null,
   "metadata": {},
   "outputs": [],
   "source": [
    "#|export\n",
    "def _dict2obj(d, list_func=list, dict_func=AttrDict):\n",
    "    \"Convert (possibly nested) dicts (or lists of dicts) to `AttrDict`\"\n",
    "    if isinstance(d, list): return list(map(_dict2obj, d))\n",
    "    if not isinstance(d, dict): return d\n",
    "    return dict_func(**{k:_dict2obj(v) for k,v in d.items()})\n",
    "\n",
    "def dict2nb(js=None, **kwargs):\n",
    "    \"Convert dict `js` to an `AttrDict`, \"\n",
    "    nb = _dict2obj(js or kwargs)\n",
    "    nb.cells = [NbCell(*o) for o in enumerate(nb.cells)]\n",
    "    return nb"
   ]
  },
  {
   "cell_type": "markdown",
   "metadata": {},
   "source": [
    "We can now convert our JSON into this `nbclient`-compatible format, which pretty prints the source code of cells in notebooks."
   ]
  },
  {
   "cell_type": "code",
   "execution_count": null,
   "metadata": {},
   "outputs": [
    {
     "data": {
      "text/markdown": [
       "```json\n",
       "{ 'cell_type': 'code',\n",
       "  'execution_count': None,\n",
       "  'idx_': 1,\n",
       "  'metadata': {},\n",
       "  'outputs': [ { 'data': {'text/plain': ['2']},\n",
       "                 'execution_count': None,\n",
       "                 'metadata': {},\n",
       "                 'output_type': 'execute_result'}],\n",
       "  'source': '# Do some arithmetic\\n1+1'}\n",
       "```"
      ],
      "text/plain": [
       "{'cell_type': 'code',\n",
       " 'execution_count': None,\n",
       " 'metadata': {},\n",
       " 'outputs': [{'data': {'text/plain': ['2']},\n",
       "   'execution_count': None,\n",
       "   'metadata': {},\n",
       "   'output_type': 'execute_result'}],\n",
       " 'source': '# Do some arithmetic\\n1+1',\n",
       " 'idx_': 1}"
      ]
     },
     "execution_count": null,
     "metadata": {},
     "output_type": "execute_result"
    }
   ],
   "source": [
    "minimal = dict2nb(minimal_txt)\n",
    "cell = minimal.cells[1]\n",
    "cell"
   ]
  },
  {
   "cell_type": "markdown",
   "metadata": {},
   "source": [
    "The abstract syntax tree of source code cells is available in the `parsed_` property:"
   ]
  },
  {
   "cell_type": "code",
   "execution_count": null,
   "metadata": {},
   "outputs": [
    {
     "data": {
      "text/plain": [
       "([<ast.Expr>], <ast.Add>)"
      ]
     },
     "execution_count": null,
     "metadata": {},
     "output_type": "execute_result"
    }
   ],
   "source": [
    "cell.parsed_(), cell.parsed_()[0].value.op"
   ]
  },
  {
   "cell_type": "code",
   "execution_count": null,
   "metadata": {},
   "outputs": [],
   "source": [
    "#|export\n",
    "def read_nb(path):\n",
    "    \"Return notebook at `path`\"\n",
    "    res = dict2nb(_read_json(path, encoding='utf-8'))\n",
    "    res['path_'] = str(path)\n",
    "    return res"
   ]
  },
  {
   "cell_type": "markdown",
   "metadata": {},
   "source": [
    "This reads the JSON for the file at `path` and converts it with `dict2nb`. For instance:"
   ]
  },
  {
   "cell_type": "code",
   "execution_count": null,
   "metadata": {},
   "outputs": [
    {
     "data": {
      "text/plain": [
       "\"{'cell_type': 'markdown', 'metadata': {}, 'source': '## A minimal notebook', 'idx_': 0}\""
      ]
     },
     "execution_count": null,
     "metadata": {},
     "output_type": "execute_result"
    }
   ],
   "source": [
    "minimal = read_nb(minimal_fn)\n",
    "str(minimal.cells[0])"
   ]
  },
  {
   "cell_type": "markdown",
   "metadata": {},
   "source": [
    "The file name read is stored in `path_`:"
   ]
  },
  {
   "cell_type": "code",
   "execution_count": null,
   "metadata": {},
   "outputs": [
    {
     "data": {
      "text/plain": [
       "'../tests/minimal.ipynb'"
      ]
     },
     "execution_count": null,
     "metadata": {},
     "output_type": "execute_result"
    }
   ],
   "source": [
    "minimal.path_"
   ]
  },
  {
   "cell_type": "markdown",
   "metadata": {},
   "source": [
    "## Creating a notebook"
   ]
  },
  {
   "cell_type": "code",
   "execution_count": null,
   "metadata": {},
   "outputs": [],
   "source": [
    "#|export\n",
    "def new_nb(cells=None, meta=None, nbformat=4, nbformat_minor=5):\n",
    "    \"Returns an empty new notebook\"\n",
    "    return dict2nb(cells=cells or [],metadata=meta or {},nbformat=nbformat,nbformat_minor=nbformat_minor)"
   ]
  },
  {
   "cell_type": "markdown",
   "metadata": {},
   "source": [
    "Use this function when creating a new notebook. Useful for when you don't want to create a notebook on disk first and then read it."
   ]
  },
  {
   "cell_type": "code",
   "execution_count": null,
   "metadata": {},
   "outputs": [],
   "source": [
    "#| export\n",
    "def mk_cell(text,  # `source` attr in cell\n",
    "            cell_type='code',  # `cell_type` attr in cell\n",
    "            **kwargs):  # any other attrs to add to cell\n",
    "    \"Create an `NbCell` containing `text`\"\n",
    "    assert cell_type in {'code', 'markdown', 'raw'}\n",
    "    if 'metadata' not in kwargs: kwargs['metadata']={}\n",
    "    if cell_type == 'code':\n",
    "        kwargs['outputs']=[]\n",
    "        kwargs['execution_count']=0\n",
    "    return NbCell(0, dict(cell_type=cell_type, source=text, directives_={}, **kwargs))"
   ]
  },
  {
   "cell_type": "code",
   "execution_count": null,
   "metadata": {},
   "outputs": [
    {
     "data": {
      "text/markdown": [
       "```json\n",
       "{ 'cell_type': 'code',\n",
       "  'directives_': {},\n",
       "  'execution_count': 0,\n",
       "  'idx_': 0,\n",
       "  'metadata': {},\n",
       "  'outputs': [],\n",
       "  'source': 'print(1)'}\n",
       "```"
      ],
      "text/plain": [
       "{'cell_type': 'code',\n",
       " 'source': 'print(1)',\n",
       " 'directives_': {},\n",
       " 'execution_count': 0,\n",
       " 'metadata': {},\n",
       " 'outputs': [],\n",
       " 'idx_': 0}"
      ]
     },
     "execution_count": null,
     "metadata": {},
     "output_type": "execute_result"
    }
   ],
   "source": [
    "mk_cell('print(1)', execution_count=0)"
   ]
  },
  {
   "cell_type": "markdown",
   "metadata": {},
   "source": [
    "## Writing a notebook"
   ]
  },
  {
   "cell_type": "code",
   "execution_count": null,
   "metadata": {},
   "outputs": [],
   "source": [
    "#|export\n",
    "def nb2dict(d, k=None):\n",
    "    \"Convert parsed notebook to `dict`\"\n",
    "    if k=='source': return d.splitlines(keepends=True)\n",
    "    if isinstance(d, list): return list(map(nb2dict,d))\n",
    "    if not isinstance(d, dict): return d\n",
    "    return dict(**{k:nb2dict(v,k) for k,v in d.items() if k[-1] != '_'})"
   ]
  },
  {
   "cell_type": "markdown",
   "metadata": {},
   "source": [
    "This returns the exact same dict as is read from the notebook JSON."
   ]
  },
  {
   "cell_type": "code",
   "execution_count": null,
   "metadata": {},
   "outputs": [],
   "source": [
    "minimal_fn = Path('../tests/minimal.ipynb')\n",
    "minimal = read_nb(minimal_fn)\n",
    "\n",
    "minimal_dict = _read_json(minimal_fn)\n",
    "assert minimal_dict==nb2dict(minimal)"
   ]
  },
  {
   "cell_type": "code",
   "execution_count": null,
   "metadata": {},
   "outputs": [],
   "source": [
    "#|export\n",
    "def nb2str(nb):\n",
    "    \"Convert `nb` to a `str`\"\n",
    "    if isinstance(nb, (AttrDict,list)): nb = nb2dict(nb)\n",
    "    return dumps(nb, sort_keys=True, indent=1, ensure_ascii=False) + \"\\n\""
   ]
  },
  {
   "cell_type": "markdown",
   "metadata": {},
   "source": [
    "To save a notebook we first need to convert it to a `str`:"
   ]
  },
  {
   "cell_type": "code",
   "execution_count": null,
   "metadata": {},
   "outputs": [
    {
     "name": "stdout",
     "output_type": "stream",
     "text": [
      "{\n",
      " \"cells\": [\n",
      "  {\n",
      "   \"cell_type\": \"markdown\",\n"
     ]
    }
   ],
   "source": [
    "print(nb2str(minimal)[:45])"
   ]
  },
  {
   "cell_type": "code",
   "execution_count": null,
   "metadata": {},
   "outputs": [],
   "source": [
    "#|export\n",
    "def write_nb(nb, path):\n",
    "    \"Write `nb` to `path`\"\n",
    "    new = nb2str(nb)\n",
    "    path = Path(path)\n",
    "    old = Path(path).read_text(encoding='utf-8') if path.exists() else None\n",
    "    if new!=old:\n",
    "        with open(path, 'w', encoding='utf-8') as f: f.write(new)"
   ]
  },
  {
   "cell_type": "markdown",
   "metadata": {},
   "source": [
    "This returns the exact same string as saved by Jupyter."
   ]
  },
  {
   "cell_type": "code",
   "execution_count": null,
   "metadata": {},
   "outputs": [],
   "source": [
    "tmp = Path('tmp.ipynb')\n",
    "try:\n",
    "    minimal_txt = minimal_fn.read_text()\n",
    "    write_nb(minimal, tmp)\n",
    "    assert minimal_txt==tmp.read_text()\n",
    "finally: tmp.unlink()"
   ]
  },
  {
   "cell_type": "markdown",
   "metadata": {},
   "source": [
    "Here's how to put all the pieces of `execnb.nbio` together:"
   ]
  },
  {
   "cell_type": "code",
   "execution_count": null,
   "metadata": {},
   "outputs": [
    {
     "name": "stdout",
     "output_type": "stream",
     "text": [
      "[{'cell_type': 'code', 'execution_count': 0, 'metadata': {}, 'outputs': [], 'source': 'print(1)', 'idx_': 0}]\n"
     ]
    }
   ],
   "source": [
    "nb = new_nb([mk_cell('print(1)')])\n",
    "path = Path('test.ipynb')\n",
    "write_nb(nb, path)\n",
    "nb2 = read_nb(path)\n",
    "print(nb2.cells)\n",
    "path.unlink()"
   ]
  },
  {
   "cell_type": "markdown",
   "metadata": {},
   "source": [
    "## export -"
   ]
  },
  {
   "cell_type": "code",
   "execution_count": null,
   "metadata": {},
   "outputs": [],
   "source": [
    "#|hide\n",
    "import nbdev; nbdev.nbdev_export()"
   ]
  },
  {
   "cell_type": "code",
   "execution_count": null,
   "metadata": {},
   "outputs": [],
   "source": []
  }
 ],
 "metadata": {
  "kernelspec": {
   "display_name": "python3",
   "language": "python",
   "name": "python3"
  }
 },
 "nbformat": 4,
 "nbformat_minor": 4
}
